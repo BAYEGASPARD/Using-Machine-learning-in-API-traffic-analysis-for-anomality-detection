{
  "nbformat": 4,
  "nbformat_minor": 0,
  "metadata": {
    "accelerator": "GPU",
    "colab": {
      "name": "Using machine learning for anomally detection in API traffic.ipynb",
      "provenance": [],
      "collapsed_sections": [],
      "include_colab_link": true
    },
    "kernelspec": {
      "display_name": "Python 3",
      "language": "python",
      "name": "python3"
    },
    "language_info": {
      "codemirror_mode": {
        "name": "ipython",
        "version": 3
      },
      "file_extension": ".py",
      "mimetype": "text/x-python",
      "name": "python",
      "nbconvert_exporter": "python",
      "pygments_lexer": "ipython3",
      "version": "3.7.4"
    }
  },
  "cells": [
    {
      "cell_type": "markdown",
      "metadata": {
        "id": "view-in-github",
        "colab_type": "text"
      },
      "source": [
        "<a href=\"https://colab.research.google.com/github/BAYEGASPARD/Using-Machine-learning-in-API-traffic-analysis-for-anomality-detection/blob/master/Using_machine_learning_for_anomally_detection_in_API_traffic.ipynb\" target=\"_parent\"><img src=\"https://colab.research.google.com/assets/colab-badge.svg\" alt=\"Open In Colab\"/></a>"
      ]
    },
    {
      "cell_type": "code",
      "metadata": {
        "colab_type": "code",
        "id": "LppnDqUxAhD_",
        "outputId": "baaecf2e-2774-45b3-c01c-486a8a7a5ffd",
        "colab": {
          "base_uri": "https://localhost:8080/",
          "height": 151
        }
      },
      "source": [
        "!pip install faker"
      ],
      "execution_count": 2,
      "outputs": [
        {
          "output_type": "stream",
          "text": [
            "Collecting faker\n",
            "\u001b[?25l  Downloading https://files.pythonhosted.org/packages/cd/e0/13105994434cd0ff16d49391a2666f7ef5ce95daea3975f1126c22d3ef20/Faker-3.0.0-py2.py3-none-any.whl (968kB)\n",
            "\r\u001b[K     |▍                               | 10kB 29.1MB/s eta 0:00:01\r\u001b[K     |▊                               | 20kB 6.3MB/s eta 0:00:01\r\u001b[K     |█                               | 30kB 9.0MB/s eta 0:00:01\r\u001b[K     |█▍                              | 40kB 5.8MB/s eta 0:00:01\r\u001b[K     |█▊                              | 51kB 7.1MB/s eta 0:00:01\r\u001b[K     |██                              | 61kB 8.3MB/s eta 0:00:01\r\u001b[K     |██▍                             | 71kB 9.5MB/s eta 0:00:01\r\u001b[K     |██▊                             | 81kB 10.6MB/s eta 0:00:01\r\u001b[K     |███                             | 92kB 11.7MB/s eta 0:00:01\r\u001b[K     |███▍                            | 102kB 9.5MB/s eta 0:00:01\r\u001b[K     |███▊                            | 112kB 9.5MB/s eta 0:00:01\r\u001b[K     |████                            | 122kB 9.5MB/s eta 0:00:01\r\u001b[K     |████▍                           | 133kB 9.5MB/s eta 0:00:01\r\u001b[K     |████▊                           | 143kB 9.5MB/s eta 0:00:01\r\u001b[K     |█████                           | 153kB 9.5MB/s eta 0:00:01\r\u001b[K     |█████▍                          | 163kB 9.5MB/s eta 0:00:01\r\u001b[K     |█████▊                          | 174kB 9.5MB/s eta 0:00:01\r\u001b[K     |██████                          | 184kB 9.5MB/s eta 0:00:01\r\u001b[K     |██████▍                         | 194kB 9.5MB/s eta 0:00:01\r\u001b[K     |██████▊                         | 204kB 9.5MB/s eta 0:00:01\r\u001b[K     |███████                         | 215kB 9.5MB/s eta 0:00:01\r\u001b[K     |███████▍                        | 225kB 9.5MB/s eta 0:00:01\r\u001b[K     |███████▉                        | 235kB 9.5MB/s eta 0:00:01\r\u001b[K     |████████▏                       | 245kB 9.5MB/s eta 0:00:01\r\u001b[K     |████████▌                       | 256kB 9.5MB/s eta 0:00:01\r\u001b[K     |████████▉                       | 266kB 9.5MB/s eta 0:00:01\r\u001b[K     |█████████▏                      | 276kB 9.5MB/s eta 0:00:01\r\u001b[K     |█████████▌                      | 286kB 9.5MB/s eta 0:00:01\r\u001b[K     |█████████▉                      | 296kB 9.5MB/s eta 0:00:01\r\u001b[K     |██████████▏                     | 307kB 9.5MB/s eta 0:00:01\r\u001b[K     |██████████▌                     | 317kB 9.5MB/s eta 0:00:01\r\u001b[K     |██████████▉                     | 327kB 9.5MB/s eta 0:00:01\r\u001b[K     |███████████▏                    | 337kB 9.5MB/s eta 0:00:01\r\u001b[K     |███████████▌                    | 348kB 9.5MB/s eta 0:00:01\r\u001b[K     |███████████▉                    | 358kB 9.5MB/s eta 0:00:01\r\u001b[K     |████████████▏                   | 368kB 9.5MB/s eta 0:00:01\r\u001b[K     |████████████▌                   | 378kB 9.5MB/s eta 0:00:01\r\u001b[K     |████████████▉                   | 389kB 9.5MB/s eta 0:00:01\r\u001b[K     |█████████████▏                  | 399kB 9.5MB/s eta 0:00:01\r\u001b[K     |█████████████▌                  | 409kB 9.5MB/s eta 0:00:01\r\u001b[K     |█████████████▉                  | 419kB 9.5MB/s eta 0:00:01\r\u001b[K     |██████████████▏                 | 430kB 9.5MB/s eta 0:00:01\r\u001b[K     |██████████████▌                 | 440kB 9.5MB/s eta 0:00:01\r\u001b[K     |██████████████▉                 | 450kB 9.5MB/s eta 0:00:01\r\u001b[K     |███████████████▏                | 460kB 9.5MB/s eta 0:00:01\r\u001b[K     |███████████████▋                | 471kB 9.5MB/s eta 0:00:01\r\u001b[K     |████████████████                | 481kB 9.5MB/s eta 0:00:01\r\u001b[K     |████████████████▎               | 491kB 9.5MB/s eta 0:00:01\r\u001b[K     |████████████████▋               | 501kB 9.5MB/s eta 0:00:01\r\u001b[K     |█████████████████               | 512kB 9.5MB/s eta 0:00:01\r\u001b[K     |█████████████████▎              | 522kB 9.5MB/s eta 0:00:01\r\u001b[K     |█████████████████▋              | 532kB 9.5MB/s eta 0:00:01\r\u001b[K     |██████████████████              | 542kB 9.5MB/s eta 0:00:01\r\u001b[K     |██████████████████▎             | 552kB 9.5MB/s eta 0:00:01\r\u001b[K     |██████████████████▋             | 563kB 9.5MB/s eta 0:00:01\r\u001b[K     |███████████████████             | 573kB 9.5MB/s eta 0:00:01\r\u001b[K     |███████████████████▎            | 583kB 9.5MB/s eta 0:00:01\r\u001b[K     |███████████████████▋            | 593kB 9.5MB/s eta 0:00:01\r\u001b[K     |████████████████████            | 604kB 9.5MB/s eta 0:00:01\r\u001b[K     |████████████████████▎           | 614kB 9.5MB/s eta 0:00:01\r\u001b[K     |████████████████████▋           | 624kB 9.5MB/s eta 0:00:01\r\u001b[K     |█████████████████████           | 634kB 9.5MB/s eta 0:00:01\r\u001b[K     |█████████████████████▎          | 645kB 9.5MB/s eta 0:00:01\r\u001b[K     |█████████████████████▋          | 655kB 9.5MB/s eta 0:00:01\r\u001b[K     |██████████████████████          | 665kB 9.5MB/s eta 0:00:01\r\u001b[K     |██████████████████████▎         | 675kB 9.5MB/s eta 0:00:01\r\u001b[K     |██████████████████████▋         | 686kB 9.5MB/s eta 0:00:01\r\u001b[K     |███████████████████████         | 696kB 9.5MB/s eta 0:00:01\r\u001b[K     |███████████████████████▍        | 706kB 9.5MB/s eta 0:00:01\r\u001b[K     |███████████████████████▊        | 716kB 9.5MB/s eta 0:00:01\r\u001b[K     |████████████████████████        | 727kB 9.5MB/s eta 0:00:01\r\u001b[K     |████████████████████████▍       | 737kB 9.5MB/s eta 0:00:01\r\u001b[K     |████████████████████████▊       | 747kB 9.5MB/s eta 0:00:01\r\u001b[K     |█████████████████████████       | 757kB 9.5MB/s eta 0:00:01\r\u001b[K     |█████████████████████████▍      | 768kB 9.5MB/s eta 0:00:01\r\u001b[K     |█████████████████████████▊      | 778kB 9.5MB/s eta 0:00:01\r\u001b[K     |██████████████████████████      | 788kB 9.5MB/s eta 0:00:01\r\u001b[K     |██████████████████████████▍     | 798kB 9.5MB/s eta 0:00:01\r\u001b[K     |██████████████████████████▊     | 808kB 9.5MB/s eta 0:00:01\r\u001b[K     |███████████████████████████     | 819kB 9.5MB/s eta 0:00:01\r\u001b[K     |███████████████████████████▍    | 829kB 9.5MB/s eta 0:00:01\r\u001b[K     |███████████████████████████▊    | 839kB 9.5MB/s eta 0:00:01\r\u001b[K     |████████████████████████████    | 849kB 9.5MB/s eta 0:00:01\r\u001b[K     |████████████████████████████▍   | 860kB 9.5MB/s eta 0:00:01\r\u001b[K     |████████████████████████████▊   | 870kB 9.5MB/s eta 0:00:01\r\u001b[K     |█████████████████████████████   | 880kB 9.5MB/s eta 0:00:01\r\u001b[K     |█████████████████████████████▍  | 890kB 9.5MB/s eta 0:00:01\r\u001b[K     |█████████████████████████████▊  | 901kB 9.5MB/s eta 0:00:01\r\u001b[K     |██████████████████████████████  | 911kB 9.5MB/s eta 0:00:01\r\u001b[K     |██████████████████████████████▍ | 921kB 9.5MB/s eta 0:00:01\r\u001b[K     |██████████████████████████████▉ | 931kB 9.5MB/s eta 0:00:01\r\u001b[K     |███████████████████████████████▏| 942kB 9.5MB/s eta 0:00:01\r\u001b[K     |███████████████████████████████▌| 952kB 9.5MB/s eta 0:00:01\r\u001b[K     |███████████████████████████████▉| 962kB 9.5MB/s eta 0:00:01\r\u001b[K     |████████████████████████████████| 972kB 9.5MB/s \n",
            "\u001b[?25hRequirement already satisfied: python-dateutil>=2.4 in /usr/local/lib/python3.6/dist-packages (from faker) (2.6.1)\n",
            "Requirement already satisfied: text-unidecode==1.3 in /usr/local/lib/python3.6/dist-packages (from faker) (1.3)\n",
            "Requirement already satisfied: six>=1.10 in /usr/local/lib/python3.6/dist-packages (from faker) (1.12.0)\n",
            "Installing collected packages: faker\n",
            "Successfully installed faker-3.0.0\n"
          ],
          "name": "stdout"
        }
      ]
    },
    {
      "cell_type": "code",
      "metadata": {
        "colab_type": "code",
        "id": "2gUNkF7sUP6k",
        "outputId": "a5403d55-15f6-4d8e-a7d2-111a62330057",
        "scrolled": false,
        "colab": {
          "base_uri": "https://localhost:8080/",
          "height": 1000
        }
      },
      "source": [
        "import pandas\n",
        "import csv\n",
        "from faker import Faker\n",
        "import datetime\n",
        "from matplotlib import pyplot\n",
        "from random import getrandbits\n",
        "from ipaddress import IPv4Network, IPv4Address\n",
        "from collections import Counter\n",
        "\n",
        "\n",
        "version0 = 20\n",
        "ip_list = []\n",
        "#ip_list2 = []\n",
        "ip_addr = [] \n",
        "occr   = []\n",
        "n = []\n",
        "\n",
        "\n",
        "def datagenerate(records, headers):\n",
        "    fake = Faker('en_US')\n",
        "    fake1 = Faker('en_GB')   # To generate phone numbers\n",
        "    with open(\"Synth_data.csv\", 'wt') as csvFile:\n",
        "        writer = csv.DictWriter(csvFile, fieldnames=headers)\n",
        "        writer.writeheader()\n",
        "        for i in range(records):\n",
        "          index = \"pingf-sys-log-\"+fake.date(pattern=\"%d-%m-%Y\", end_datetime=datetime.date(2019, 12,1))\n",
        "          type1 = \"pingf-sys-log\"+str(fake.random_int())\n",
        "          beatname = fake.name() + str(fake.random_int())\n",
        "          BeatHostname = beatname\n",
        "          BeatVersion = str(fake.random_int())+\".\"+str(fake.random_int())+\".\"+str(fake.random_int())\n",
        "          Env = \"qa\"\n",
        "          \n",
        "          Project = \"pingf\"\n",
        "          HttpVersion = 1.1\n",
        "          logType = fake.random.choice(['request','response']),\n",
        "          ResponseCode = fake.random.choice(['200','300','400','500']),\n",
        "          Message = fake.ipv4_private()+\"--\"+\"[\"+fake.date()+fake.time()+\"]\"+\"\\\"\"+fake.random.choice(['GET','POST','OPTIONS', 'PUT','DELETE'])+\"/\"+\"https://rbc.com\"+fake.file_path()+\"HTTP/1.1\"+fake.random.choice(['200','300','400','500'])+fake.url()+\"\\\"\"+fake.user_agent()\n",
        "          Offset = str(fake.random_int())+\".\"+str(fake.random_int())\n",
        "          Source = fake.file_path()+fake.date()+fake.random.choice(['request','response'])+str(fake.random_int())+\".log\"\n",
        "          Tags = \"pingf, qa, ping-federate, gcc, beats input codec plain applied\"\n",
        "          uri1 = \"https://rbc.com\"+fake.file_path()\n",
        "       \n",
        "          global version0 \n",
        "          version0 +=1\n",
        "          # generate random ip from a  subnet\n",
        "          global ip_list, addr_str, n\n",
        "          subnet = IPv4Network(\"192.168.0.0/24\")\n",
        "          bits = getrandbits(subnet.max_prefixlen - subnet.prefixlen) \n",
        "          addr = IPv4Address(subnet.network_address + bits)\n",
        "          addr_str = str(addr)\n",
        "          ip_list.append(addr_str)\n",
        "          #print(ip_list)\n",
        "          global ip_addr , occr, l, ip_list2, occr2, addr_str2, Addr\n",
        "          occr = Counter((ip_list)).values()\n",
        "          ip_addr = Counter((ip_list)).keys()\n",
        "          \n",
        "          #print(ip_addr)\n",
        "          n = fake.random_int(min=1, max = 1000, step=2)\n",
        "          #print(occr)\n",
        "            # Normalize data\n",
        "          \n",
        "          \n",
        "                    \n",
        "\n",
        "\n",
        "                    #subnet = IPv4Network(\"188.30.55.0/30\")\n",
        "                    #bits = getrandbits(subnet.max_prefixlen - subnet.prefixlen) \n",
        "                    #Addr = IPv4Address(subnet.network_address + bits)\n",
        "                    #addr_str2 = str(Addr)\n",
        "                    #ip_list2.append(addr_str2)\n",
        "                    #occr2 = Counter((ip_list2)).values()\n",
        "                    #thewriter.writerow(['Normal', i, IP])\n",
        "                    #thewriter.writerow([types, i, ])\n",
        "                    #X = np.array(i)\n",
        "                    #y = np.array(l)\n",
        "\n",
        "                   # from sklearn.svm import SVC\n",
        "                    #clf = SVC(kernel='linear')\n",
        "                   # clf.fit(X, y)\n",
        "                    \n",
        "                    \n",
        "                   \n",
        " \n",
        "          writer.writerow({\n",
        "                    \"Timestamp\" : fake.date(pattern=\"%d-%m-%Y\", end_datetime=datetime.date(2019, 12,1)),\n",
        "                    \"Version\": version0,\n",
        "                    \"_id\" : fake.hexify()+fake.hexify()+fake.hexify(),\n",
        "                    \"_index\" : index,\n",
        "                    \"_score\": fake.random_int(),\n",
        "                    \"_type\" : type1,\n",
        "                    \"beat.hostname\" : BeatHostname,\n",
        "                    \"beat.name\" : beatname,\n",
        "                    \"beat.version\" : BeatVersion,\n",
        "                    #\"clientIp\" : fake.ipv4_private(),\n",
        "                    \"clientIp\" : addr_str,\n",
        "                    \"env\" : Env,\n",
        "                    \"host\":fake.hostname(),\n",
        "                    \"hostname\": fake.hostname(),\n",
        "                    \"httpVersion\": HttpVersion,\n",
        "                    \"log-type\": logType,\n",
        "                    \"message\" : Message,\n",
        "                    \"method\": fake.random.choice(['GET','POST','OPTIONS', 'PUT','DELETE']),\n",
        "                    \"offset\" : Offset,\n",
        "                    \"project\" : Project,\n",
        "                    \"responseCode\": ResponseCode,\n",
        "                    \"responseTime\" : fake.time(),\n",
        "                    \"source\" : Source,\n",
        "                    \"tags\" : Tags,\n",
        "                    \"timestamp\" : fake.time(),\n",
        "                    \"type\" : type1,\n",
        "                    \"uri\" : uri1,\n",
        "                    \"Bandwidth_in_Mbps\" : n\n",
        "                    })\n",
        "    \n",
        "if __name__ == '__main__':\n",
        "    records = 10000\n",
        "    headers = [\"Timestamp\", \"Version\", \"_id\", \"_index\", \"_score\",\n",
        "               \"_type\", \"beat.hostname\", \"beat.name\",\"beat.version\", \"clientIp\", \"env\", \"host\", \"hostname\", \"httpVersion\", \"log-type\", \"message\", \"method\",\n",
        "               \"offset\", \"project\", \"responseCode\",\"responseTime\", \"source\", \"tags\", \"timestamp\", \"type\", \"uri\", \"Bandwidth_in_Mbps\"]\n",
        "    datagenerate(records, headers)\n",
        "    print(\"CSV file for synthetic data generated successfully !!!\")\n",
        "    \n",
        "df = pandas.read_csv('Synth_data.csv')\n",
        "df.head(100)\n",
        "\n",
        "#print(\"************************************************************************************************************\")\n",
        "\n"
      ],
      "execution_count": 288,
      "outputs": [
        {
          "output_type": "stream",
          "text": [
            "CSV file for synthetic data generated successfully !!!\n"
          ],
          "name": "stdout"
        },
        {
          "output_type": "execute_result",
          "data": {
            "text/html": [
              "<div>\n",
              "<style scoped>\n",
              "    .dataframe tbody tr th:only-of-type {\n",
              "        vertical-align: middle;\n",
              "    }\n",
              "\n",
              "    .dataframe tbody tr th {\n",
              "        vertical-align: top;\n",
              "    }\n",
              "\n",
              "    .dataframe thead th {\n",
              "        text-align: right;\n",
              "    }\n",
              "</style>\n",
              "<table border=\"1\" class=\"dataframe\">\n",
              "  <thead>\n",
              "    <tr style=\"text-align: right;\">\n",
              "      <th></th>\n",
              "      <th>Timestamp</th>\n",
              "      <th>Version</th>\n",
              "      <th>_id</th>\n",
              "      <th>_index</th>\n",
              "      <th>_score</th>\n",
              "      <th>_type</th>\n",
              "      <th>beat.hostname</th>\n",
              "      <th>beat.name</th>\n",
              "      <th>beat.version</th>\n",
              "      <th>clientIp</th>\n",
              "      <th>env</th>\n",
              "      <th>host</th>\n",
              "      <th>hostname</th>\n",
              "      <th>httpVersion</th>\n",
              "      <th>log-type</th>\n",
              "      <th>message</th>\n",
              "      <th>method</th>\n",
              "      <th>offset</th>\n",
              "      <th>project</th>\n",
              "      <th>responseCode</th>\n",
              "      <th>responseTime</th>\n",
              "      <th>source</th>\n",
              "      <th>tags</th>\n",
              "      <th>timestamp</th>\n",
              "      <th>type</th>\n",
              "      <th>uri</th>\n",
              "      <th>Bandwidth_in_Mbps</th>\n",
              "    </tr>\n",
              "  </thead>\n",
              "  <tbody>\n",
              "    <tr>\n",
              "      <th>0</th>\n",
              "      <td>25-02-2017</td>\n",
              "      <td>21</td>\n",
              "      <td>320482c62d69</td>\n",
              "      <td>pingf-sys-log-24-01-2010</td>\n",
              "      <td>7187</td>\n",
              "      <td>pingf-sys-log3440</td>\n",
              "      <td>Mary Foley3126</td>\n",
              "      <td>Mary Foley3126</td>\n",
              "      <td>7010.6074.3600</td>\n",
              "      <td>192.168.0.20</td>\n",
              "      <td>qa</td>\n",
              "      <td>db-33.leblanc.com</td>\n",
              "      <td>web-00.roman.com</td>\n",
              "      <td>1.1</td>\n",
              "      <td>('request',)</td>\n",
              "      <td>172.21.166.166--[1978-09-2420:34:23]\"DELETE/ht...</td>\n",
              "      <td>GET</td>\n",
              "      <td>9735.6420</td>\n",
              "      <td>pingf</td>\n",
              "      <td>('300',)</td>\n",
              "      <td>09:10:56</td>\n",
              "      <td>/station/system.gif1986-01-22response7865.log</td>\n",
              "      <td>pingf, qa, ping-federate, gcc, beats input cod...</td>\n",
              "      <td>19:22:45</td>\n",
              "      <td>pingf-sys-log3440</td>\n",
              "      <td>https://rbc.com/movement/American.odp</td>\n",
              "      <td>959</td>\n",
              "    </tr>\n",
              "    <tr>\n",
              "      <th>1</th>\n",
              "      <td>03-07-1985</td>\n",
              "      <td>22</td>\n",
              "      <td>4da7dc65f7cf</td>\n",
              "      <td>pingf-sys-log-21-08-1994</td>\n",
              "      <td>3365</td>\n",
              "      <td>pingf-sys-log4617</td>\n",
              "      <td>Amy Hill426</td>\n",
              "      <td>Amy Hill426</td>\n",
              "      <td>4528.4387.379</td>\n",
              "      <td>192.168.0.20</td>\n",
              "      <td>qa</td>\n",
              "      <td>lt-83.cooley-jackson.com</td>\n",
              "      <td>laptop-18.clark-middleton.com</td>\n",
              "      <td>1.1</td>\n",
              "      <td>('response',)</td>\n",
              "      <td>172.28.197.71--[2007-01-0712:51:11]\"GET/https:...</td>\n",
              "      <td>OPTIONS</td>\n",
              "      <td>1885.8633</td>\n",
              "      <td>pingf</td>\n",
              "      <td>('400',)</td>\n",
              "      <td>09:45:13</td>\n",
              "      <td>/too/think.gif2013-10-25request2898.log</td>\n",
              "      <td>pingf, qa, ping-federate, gcc, beats input cod...</td>\n",
              "      <td>04:51:11</td>\n",
              "      <td>pingf-sys-log4617</td>\n",
              "      <td>https://rbc.com/page/challenge.avi</td>\n",
              "      <td>619</td>\n",
              "    </tr>\n",
              "    <tr>\n",
              "      <th>2</th>\n",
              "      <td>23-06-1991</td>\n",
              "      <td>23</td>\n",
              "      <td>7e8e3073c055</td>\n",
              "      <td>pingf-sys-log-27-01-1989</td>\n",
              "      <td>781</td>\n",
              "      <td>pingf-sys-log199</td>\n",
              "      <td>Mariah Saunders706</td>\n",
              "      <td>Mariah Saunders706</td>\n",
              "      <td>394.7656.6300</td>\n",
              "      <td>192.168.0.146</td>\n",
              "      <td>qa</td>\n",
              "      <td>web-07.rhodes.biz</td>\n",
              "      <td>db-03.hubbard-richardson.com</td>\n",
              "      <td>1.1</td>\n",
              "      <td>('response',)</td>\n",
              "      <td>172.19.165.117--[2009-01-1613:16:27]\"PUT/https...</td>\n",
              "      <td>OPTIONS</td>\n",
              "      <td>4493.9420</td>\n",
              "      <td>pingf</td>\n",
              "      <td>('200',)</td>\n",
              "      <td>03:34:26</td>\n",
              "      <td>/here/crime.csv1992-08-03request1019.log</td>\n",
              "      <td>pingf, qa, ping-federate, gcc, beats input cod...</td>\n",
              "      <td>04:17:26</td>\n",
              "      <td>pingf-sys-log199</td>\n",
              "      <td>https://rbc.com/break/inside.avi</td>\n",
              "      <td>827</td>\n",
              "    </tr>\n",
              "    <tr>\n",
              "      <th>3</th>\n",
              "      <td>02-12-2016</td>\n",
              "      <td>24</td>\n",
              "      <td>0e5ba7bfb89f</td>\n",
              "      <td>pingf-sys-log-30-08-1975</td>\n",
              "      <td>8493</td>\n",
              "      <td>pingf-sys-log3934</td>\n",
              "      <td>Cynthia Schwartz2300</td>\n",
              "      <td>Cynthia Schwartz2300</td>\n",
              "      <td>957.93.1011</td>\n",
              "      <td>192.168.0.241</td>\n",
              "      <td>qa</td>\n",
              "      <td>laptop-63.chambers-wells.com</td>\n",
              "      <td>db-77.holder.com</td>\n",
              "      <td>1.1</td>\n",
              "      <td>('response',)</td>\n",
              "      <td>172.19.161.82--[2004-12-1211:46:27]\"GET/https:...</td>\n",
              "      <td>DELETE</td>\n",
              "      <td>698.9101</td>\n",
              "      <td>pingf</td>\n",
              "      <td>('500',)</td>\n",
              "      <td>02:26:48</td>\n",
              "      <td>/some/eight.js1990-12-16request0.log</td>\n",
              "      <td>pingf, qa, ping-federate, gcc, beats input cod...</td>\n",
              "      <td>16:51:55</td>\n",
              "      <td>pingf-sys-log3934</td>\n",
              "      <td>https://rbc.com/picture/black.xlsx</td>\n",
              "      <td>985</td>\n",
              "    </tr>\n",
              "    <tr>\n",
              "      <th>4</th>\n",
              "      <td>18-01-2017</td>\n",
              "      <td>25</td>\n",
              "      <td>7ea2a9ef4fbe</td>\n",
              "      <td>pingf-sys-log-12-08-1994</td>\n",
              "      <td>2854</td>\n",
              "      <td>pingf-sys-log2394</td>\n",
              "      <td>Alex Trujillo6304</td>\n",
              "      <td>Alex Trujillo6304</td>\n",
              "      <td>6019.5618.9719</td>\n",
              "      <td>192.168.0.185</td>\n",
              "      <td>qa</td>\n",
              "      <td>web-09.crane-turner.com</td>\n",
              "      <td>web-07.hernandez.net</td>\n",
              "      <td>1.1</td>\n",
              "      <td>('request',)</td>\n",
              "      <td>172.29.154.147--[2017-03-1622:22:08]\"GET/https...</td>\n",
              "      <td>POST</td>\n",
              "      <td>9014.6829</td>\n",
              "      <td>pingf</td>\n",
              "      <td>('400',)</td>\n",
              "      <td>06:52:35</td>\n",
              "      <td>/first/enjoy.avi2008-04-09request7374.log</td>\n",
              "      <td>pingf, qa, ping-federate, gcc, beats input cod...</td>\n",
              "      <td>07:10:19</td>\n",
              "      <td>pingf-sys-log2394</td>\n",
              "      <td>https://rbc.com/fact/recognize.css</td>\n",
              "      <td>171</td>\n",
              "    </tr>\n",
              "    <tr>\n",
              "      <th>...</th>\n",
              "      <td>...</td>\n",
              "      <td>...</td>\n",
              "      <td>...</td>\n",
              "      <td>...</td>\n",
              "      <td>...</td>\n",
              "      <td>...</td>\n",
              "      <td>...</td>\n",
              "      <td>...</td>\n",
              "      <td>...</td>\n",
              "      <td>...</td>\n",
              "      <td>...</td>\n",
              "      <td>...</td>\n",
              "      <td>...</td>\n",
              "      <td>...</td>\n",
              "      <td>...</td>\n",
              "      <td>...</td>\n",
              "      <td>...</td>\n",
              "      <td>...</td>\n",
              "      <td>...</td>\n",
              "      <td>...</td>\n",
              "      <td>...</td>\n",
              "      <td>...</td>\n",
              "      <td>...</td>\n",
              "      <td>...</td>\n",
              "      <td>...</td>\n",
              "      <td>...</td>\n",
              "      <td>...</td>\n",
              "    </tr>\n",
              "    <tr>\n",
              "      <th>95</th>\n",
              "      <td>30-12-2008</td>\n",
              "      <td>116</td>\n",
              "      <td>7d560ddccb18</td>\n",
              "      <td>pingf-sys-log-17-06-1975</td>\n",
              "      <td>5791</td>\n",
              "      <td>pingf-sys-log4078</td>\n",
              "      <td>Tracy Garrett2293</td>\n",
              "      <td>Tracy Garrett2293</td>\n",
              "      <td>6154.8959.2479</td>\n",
              "      <td>192.168.0.38</td>\n",
              "      <td>qa</td>\n",
              "      <td>lt-39.martinez-ingram.com</td>\n",
              "      <td>srv-11.smith.com</td>\n",
              "      <td>1.1</td>\n",
              "      <td>('response',)</td>\n",
              "      <td>10.244.126.198--[2004-01-0911:31:10]\"PUT/https...</td>\n",
              "      <td>DELETE</td>\n",
              "      <td>4223.4055</td>\n",
              "      <td>pingf</td>\n",
              "      <td>('200',)</td>\n",
              "      <td>08:54:02</td>\n",
              "      <td>/discuss/suggest.webm1983-08-20response9011.log</td>\n",
              "      <td>pingf, qa, ping-federate, gcc, beats input cod...</td>\n",
              "      <td>11:09:28</td>\n",
              "      <td>pingf-sys-log4078</td>\n",
              "      <td>https://rbc.com/power/message.numbers</td>\n",
              "      <td>601</td>\n",
              "    </tr>\n",
              "    <tr>\n",
              "      <th>96</th>\n",
              "      <td>14-06-2008</td>\n",
              "      <td>117</td>\n",
              "      <td>b7ca6dfc7a19</td>\n",
              "      <td>pingf-sys-log-21-12-1994</td>\n",
              "      <td>1857</td>\n",
              "      <td>pingf-sys-log8325</td>\n",
              "      <td>Susan Burke3340</td>\n",
              "      <td>Susan Burke3340</td>\n",
              "      <td>9667.6208.2857</td>\n",
              "      <td>192.168.0.132</td>\n",
              "      <td>qa</td>\n",
              "      <td>laptop-50.welch-brooks.com</td>\n",
              "      <td>lt-81.gilmore-walker.com</td>\n",
              "      <td>1.1</td>\n",
              "      <td>('request',)</td>\n",
              "      <td>172.31.78.78--[2005-03-1115:11:47]\"POST/https:...</td>\n",
              "      <td>OPTIONS</td>\n",
              "      <td>9319.7324</td>\n",
              "      <td>pingf</td>\n",
              "      <td>('400',)</td>\n",
              "      <td>12:56:03</td>\n",
              "      <td>/member/enter.gif1994-12-27response7697.log</td>\n",
              "      <td>pingf, qa, ping-federate, gcc, beats input cod...</td>\n",
              "      <td>10:17:44</td>\n",
              "      <td>pingf-sys-log8325</td>\n",
              "      <td>https://rbc.com/participant/base.csv</td>\n",
              "      <td>21</td>\n",
              "    </tr>\n",
              "    <tr>\n",
              "      <th>97</th>\n",
              "      <td>20-01-1971</td>\n",
              "      <td>118</td>\n",
              "      <td>03ff3ed8636b</td>\n",
              "      <td>pingf-sys-log-05-01-1990</td>\n",
              "      <td>5857</td>\n",
              "      <td>pingf-sys-log5319</td>\n",
              "      <td>Dana Soto5798</td>\n",
              "      <td>Dana Soto5798</td>\n",
              "      <td>6764.2557.1407</td>\n",
              "      <td>192.168.0.252</td>\n",
              "      <td>qa</td>\n",
              "      <td>laptop-78.jones.net</td>\n",
              "      <td>laptop-20.henderson.net</td>\n",
              "      <td>1.1</td>\n",
              "      <td>('request',)</td>\n",
              "      <td>172.22.18.148--[1988-05-3110:31:20]\"GET/https:...</td>\n",
              "      <td>DELETE</td>\n",
              "      <td>4643.1284</td>\n",
              "      <td>pingf</td>\n",
              "      <td>('200',)</td>\n",
              "      <td>01:18:42</td>\n",
              "      <td>/provide/role.png1999-10-19request576.log</td>\n",
              "      <td>pingf, qa, ping-federate, gcc, beats input cod...</td>\n",
              "      <td>23:06:32</td>\n",
              "      <td>pingf-sys-log5319</td>\n",
              "      <td>https://rbc.com/foreign/outside.flac</td>\n",
              "      <td>947</td>\n",
              "    </tr>\n",
              "    <tr>\n",
              "      <th>98</th>\n",
              "      <td>10-12-1979</td>\n",
              "      <td>119</td>\n",
              "      <td>08f1be3ff24d</td>\n",
              "      <td>pingf-sys-log-02-04-1999</td>\n",
              "      <td>8831</td>\n",
              "      <td>pingf-sys-log5036</td>\n",
              "      <td>Shannon Ellis1417</td>\n",
              "      <td>Shannon Ellis1417</td>\n",
              "      <td>4493.5198.8965</td>\n",
              "      <td>192.168.0.185</td>\n",
              "      <td>qa</td>\n",
              "      <td>web-61.blake.biz</td>\n",
              "      <td>desktop-05.holt.info</td>\n",
              "      <td>1.1</td>\n",
              "      <td>('request',)</td>\n",
              "      <td>172.29.35.32--[1978-05-3019:12:33]\"GET/https:/...</td>\n",
              "      <td>DELETE</td>\n",
              "      <td>9477.5536</td>\n",
              "      <td>pingf</td>\n",
              "      <td>('300',)</td>\n",
              "      <td>13:41:15</td>\n",
              "      <td>/beat/each.csv2016-08-23response5578.log</td>\n",
              "      <td>pingf, qa, ping-federate, gcc, beats input cod...</td>\n",
              "      <td>01:20:41</td>\n",
              "      <td>pingf-sys-log5036</td>\n",
              "      <td>https://rbc.com/radio/mention.mp4</td>\n",
              "      <td>657</td>\n",
              "    </tr>\n",
              "    <tr>\n",
              "      <th>99</th>\n",
              "      <td>18-09-2014</td>\n",
              "      <td>120</td>\n",
              "      <td>5b437b0a3b76</td>\n",
              "      <td>pingf-sys-log-08-12-1973</td>\n",
              "      <td>7015</td>\n",
              "      <td>pingf-sys-log3256</td>\n",
              "      <td>Stephanie Carter868</td>\n",
              "      <td>Stephanie Carter868</td>\n",
              "      <td>3028.4241.8480</td>\n",
              "      <td>192.168.0.144</td>\n",
              "      <td>qa</td>\n",
              "      <td>srv-06.schneider-hendrix.com</td>\n",
              "      <td>email-78.young.com</td>\n",
              "      <td>1.1</td>\n",
              "      <td>('request',)</td>\n",
              "      <td>192.168.12.210--[1984-04-0322:19:19]\"GET/https...</td>\n",
              "      <td>OPTIONS</td>\n",
              "      <td>4241.8850</td>\n",
              "      <td>pingf</td>\n",
              "      <td>('400',)</td>\n",
              "      <td>13:01:13</td>\n",
              "      <td>/within/toward.webm1977-02-26response9815.log</td>\n",
              "      <td>pingf, qa, ping-federate, gcc, beats input cod...</td>\n",
              "      <td>08:52:00</td>\n",
              "      <td>pingf-sys-log3256</td>\n",
              "      <td>https://rbc.com/modern/between.mp3</td>\n",
              "      <td>705</td>\n",
              "    </tr>\n",
              "  </tbody>\n",
              "</table>\n",
              "<p>100 rows × 27 columns</p>\n",
              "</div>"
            ],
            "text/plain": [
              "     Timestamp  ...  Bandwidth_in_Mbps\n",
              "0   25-02-2017  ...                959\n",
              "1   03-07-1985  ...                619\n",
              "2   23-06-1991  ...                827\n",
              "3   02-12-2016  ...                985\n",
              "4   18-01-2017  ...                171\n",
              "..         ...  ...                ...\n",
              "95  30-12-2008  ...                601\n",
              "96  14-06-2008  ...                 21\n",
              "97  20-01-1971  ...                947\n",
              "98  10-12-1979  ...                657\n",
              "99  18-09-2014  ...                705\n",
              "\n",
              "[100 rows x 27 columns]"
            ]
          },
          "metadata": {
            "tags": []
          },
          "execution_count": 288
        }
      ]
    },
    {
      "cell_type": "code",
      "metadata": {
        "id": "jsI16aKENXAb",
        "colab_type": "code",
        "colab": {
          "base_uri": "https://localhost:8080/",
          "height": 276
        },
        "outputId": "c8182bdc-31fa-4365-cfc8-ceaf26dadafa"
      },
      "source": [
        "pyplot.hist(occr)\n",
        "pyplot.show()\n"
      ],
      "execution_count": 289,
      "outputs": [
        {
          "output_type": "display_data",
          "data": {
            "image/png": "[encoded data removed]",
            "text/plain": [
              "<Figure size 432x288 with 1 Axes>"
            ]
          },
          "metadata": {
            "tags": []
          }
        }
      ]
    },
    {
      "cell_type": "code",
      "metadata": {
        "id": "GlDxiagk2j2O",
        "colab_type": "code",
        "colab": {}
      },
      "source": [
        "lsl = []\n",
        " \n",
        "usl = []\n",
        "normal_data = []\n",
        "for i in occr:\n",
        "  if i<30:\n",
        "    lsl.append(i)\n",
        "  elif i>45 :\n",
        "    usl.append(i)\n",
        "  else:\n",
        "    normal_data.append(i)\n",
        "\n",
        "Abnormal_data = lsl + usl   "
      ],
      "execution_count": 0,
      "outputs": []
    },
    {
      "cell_type": "code",
      "metadata": {
        "id": "Mce2LuK_CE2M",
        "colab_type": "code",
        "colab": {}
      },
      "source": [
        "bw = []\n",
        "j = 1\n",
        "while j < 500:\n",
        "  bw.append(int(fake.random_int(min=1, max =500, step=3)))\n",
        "  j+=1\n",
        "#bw\n",
        "\n"
      ],
      "execution_count": 0,
      "outputs": []
    },
    {
      "cell_type": "code",
      "metadata": {
        "id": "aXauYgJ6XPx_",
        "colab_type": "code",
        "colab": {}
      },
      "source": [
        ""
      ],
      "execution_count": 0,
      "outputs": []
    },
    {
      "cell_type": "code",
      "metadata": {
        "id": "FdTbIl7B8mb3",
        "colab_type": "code",
        "colab": {}
      },
      "source": [
        "from faker import Faker\n",
        "\n",
        "fake = Faker(\"en_US\")\n",
        "\n",
        "with open('Train_data.csv' , 'w', newline ='') as f:\n",
        "  thewriter = csv.writer(f)\n",
        "  thewriter.writerow(['Type','Reqs_per_Secs','BW_in_Mbps'])\n",
        "  for i, b in zip(occr,bw):\n",
        "    if (i<30 and b<5):\n",
        "      thewriter.writerow(['Abnormal',i,b])\n",
        "    elif (i>30 and b>100):\n",
        "      thewriter.writerow(['Abnormal',i,b])\n",
        "    elif (45>i>30 and  100 > b > 5):\n",
        "      thewriter.writerow(['Normal',i,b])\n",
        "    else:\n",
        "      pass\n",
        "      \n",
        "    \n"
      ],
      "execution_count": 0,
      "outputs": []
    },
    {
      "cell_type": "code",
      "metadata": {
        "id": "qRR3ybVIJWbC",
        "colab_type": "code",
        "colab": {}
      },
      "source": [
        ""
      ],
      "execution_count": 0,
      "outputs": []
    },
    {
      "cell_type": "code",
      "metadata": {
        "id": "-kCSQriYk2wu",
        "colab_type": "code",
        "outputId": "8a0c3d17-21ed-48d7-b8df-f765e4f2885e",
        "colab": {
          "base_uri": "https://localhost:8080/",
          "height": 402
        }
      },
      "source": [
        "df = pandas.read_csv('Train_data.csv')\n",
        "df\n"
      ],
      "execution_count": 421,
      "outputs": [
        {
          "output_type": "execute_result",
          "data": {
            "text/html": [
              "<div>\n",
              "<style scoped>\n",
              "    .dataframe tbody tr th:only-of-type {\n",
              "        vertical-align: middle;\n",
              "    }\n",
              "\n",
              "    .dataframe tbody tr th {\n",
              "        vertical-align: top;\n",
              "    }\n",
              "\n",
              "    .dataframe thead th {\n",
              "        text-align: right;\n",
              "    }\n",
              "</style>\n",
              "<table border=\"1\" class=\"dataframe\">\n",
              "  <thead>\n",
              "    <tr style=\"text-align: right;\">\n",
              "      <th></th>\n",
              "      <th>Type</th>\n",
              "      <th>Reqs_per_Secs</th>\n",
              "      <th>BW_in_Mbps</th>\n",
              "    </tr>\n",
              "  </thead>\n",
              "  <tbody>\n",
              "    <tr>\n",
              "      <th>0</th>\n",
              "      <td>Abnormal</td>\n",
              "      <td>41</td>\n",
              "      <td>292</td>\n",
              "    </tr>\n",
              "    <tr>\n",
              "      <th>1</th>\n",
              "      <td>Abnormal</td>\n",
              "      <td>49</td>\n",
              "      <td>109</td>\n",
              "    </tr>\n",
              "    <tr>\n",
              "      <th>2</th>\n",
              "      <td>Normal</td>\n",
              "      <td>40</td>\n",
              "      <td>70</td>\n",
              "    </tr>\n",
              "    <tr>\n",
              "      <th>3</th>\n",
              "      <td>Abnormal</td>\n",
              "      <td>51</td>\n",
              "      <td>121</td>\n",
              "    </tr>\n",
              "    <tr>\n",
              "      <th>4</th>\n",
              "      <td>Abnormal</td>\n",
              "      <td>36</td>\n",
              "      <td>469</td>\n",
              "    </tr>\n",
              "    <tr>\n",
              "      <th>...</th>\n",
              "      <td>...</td>\n",
              "      <td>...</td>\n",
              "      <td>...</td>\n",
              "    </tr>\n",
              "    <tr>\n",
              "      <th>212</th>\n",
              "      <td>Abnormal</td>\n",
              "      <td>49</td>\n",
              "      <td>160</td>\n",
              "    </tr>\n",
              "    <tr>\n",
              "      <th>213</th>\n",
              "      <td>Abnormal</td>\n",
              "      <td>45</td>\n",
              "      <td>241</td>\n",
              "    </tr>\n",
              "    <tr>\n",
              "      <th>214</th>\n",
              "      <td>Abnormal</td>\n",
              "      <td>39</td>\n",
              "      <td>202</td>\n",
              "    </tr>\n",
              "    <tr>\n",
              "      <th>215</th>\n",
              "      <td>Abnormal</td>\n",
              "      <td>34</td>\n",
              "      <td>370</td>\n",
              "    </tr>\n",
              "    <tr>\n",
              "      <th>216</th>\n",
              "      <td>Abnormal</td>\n",
              "      <td>34</td>\n",
              "      <td>205</td>\n",
              "    </tr>\n",
              "  </tbody>\n",
              "</table>\n",
              "<p>217 rows × 3 columns</p>\n",
              "</div>"
            ],
            "text/plain": [
              "         Type  Reqs_per_Secs  BW_in_Mbps\n",
              "0    Abnormal             41         292\n",
              "1    Abnormal             49         109\n",
              "2      Normal             40          70\n",
              "3    Abnormal             51         121\n",
              "4    Abnormal             36         469\n",
              "..        ...            ...         ...\n",
              "212  Abnormal             49         160\n",
              "213  Abnormal             45         241\n",
              "214  Abnormal             39         202\n",
              "215  Abnormal             34         370\n",
              "216  Abnormal             34         205\n",
              "\n",
              "[217 rows x 3 columns]"
            ]
          },
          "metadata": {
            "tags": []
          },
          "execution_count": 421
        }
      ]
    },
    {
      "cell_type": "code",
      "metadata": {
        "id": "XUL4fcR4k2xN",
        "colab_type": "code",
        "outputId": "398febdf-76ec-4105-f283-be68fc699187",
        "colab": {
          "base_uri": "https://localhost:8080/",
          "height": 369
        }
      },
      "source": [
        "\n",
        "# Packages for analysis\n",
        "import pandas as pd\n",
        "import numpy as np\n",
        "from sklearn import svm\n",
        "\n",
        "# Packages for visuals\n",
        "import matplotlib.pyplot as plt\n",
        "import seaborn as sns; sns.set(font_scale=1.5)\n",
        "\n",
        "# Allows charts to appear in the notebook\n",
        "%matplotlib inline\n",
        "\n",
        "\n",
        "# Pickle package\n",
        "import pickle\n",
        "# Plot two ingredients\n",
        "sns.lmplot('Reqs_per_Secs', 'BW_in_Mbps', data=df, hue='Type',\n",
        "           palette='Set1', fit_reg=False, scatter_kws={\"s\": 70});"
      ],
      "execution_count": 423,
      "outputs": [
        {
          "output_type": "display_data",
          "data": {
            "image/png": "[encoded data removed]",
            "text/plain": [
              "<Figure size 499.275x360 with 1 Axes>"
            ]
          },
          "metadata": {
            "tags": []
          }
        }
      ]
    },
    {
      "cell_type": "code",
      "metadata": {
        "id": "awUuGQ_Nk2xr",
        "colab_type": "code",
        "colab": {
          "base_uri": "https://localhost:8080/",
          "height": 34
        },
        "outputId": "7a726e13-d771-4b98-edab-66e53e76e03b"
      },
      "source": [
        "# Specify inputs for the model\n",
        "traffic = df[['Reqs_per_Secs','BW_in_Mbps']].values\n",
        "type_label = np.where(df['Type']=='Normal', 0, 1)\n",
        "\n",
        "# Feature names\n",
        "df_features = df.columns.values[1:].tolist()\n",
        "df_features"
      ],
      "execution_count": 424,
      "outputs": [
        {
          "output_type": "execute_result",
          "data": {
            "text/plain": [
              "['Reqs_per_Secs', 'BW_in_Mbps']"
            ]
          },
          "metadata": {
            "tags": []
          },
          "execution_count": 424
        }
      ]
    },
    {
      "cell_type": "code",
      "metadata": {
        "id": "D4fcSN44CuPm",
        "colab_type": "code",
        "colab": {
          "base_uri": "https://localhost:8080/",
          "height": 84
        },
        "outputId": "a2099b7e-961b-4003-ddb4-05c2dee5e346"
      },
      "source": [
        "# Fit the SVM model\n",
        "model = svm.SVC(kernel='linear')\n",
        "model.fit(traffic, type_label)"
      ],
      "execution_count": 425,
      "outputs": [
        {
          "output_type": "execute_result",
          "data": {
            "text/plain": [
              "SVC(C=1.0, cache_size=200, class_weight=None, coef0=0.0,\n",
              "    decision_function_shape='ovr', degree=3, gamma='auto_deprecated',\n",
              "    kernel='linear', max_iter=-1, probability=False, random_state=None,\n",
              "    shrinking=True, tol=0.001, verbose=False)"
            ]
          },
          "metadata": {
            "tags": []
          },
          "execution_count": 425
        }
      ]
    },
    {
      "cell_type": "code",
      "metadata": {
        "id": "pm52aNQrC5mj",
        "colab_type": "code",
        "colab": {}
      },
      "source": [
        "w = model.coef_[0]\n",
        "a = -w[0] / w[1]\n",
        "xx = np.linspace(30, 60)\n",
        "yy = a * xx - (model.intercept_[0]) / w[1]\n",
        "\n",
        "# Plot the parallels to the separating hyperplane that pass through the support vectors\n",
        "b = model.support_vectors_[0]\n",
        "yy_down = a * xx + (b[1] - a * b[0])\n",
        "b = model.support_vectors_[-1]\n",
        "yy_up = a * xx + (b[1] - a * b[0])"
      ],
      "execution_count": 0,
      "outputs": []
    },
    {
      "cell_type": "code",
      "metadata": {
        "id": "n4bX5kO0DC8b",
        "colab_type": "code",
        "colab": {
          "base_uri": "https://localhost:8080/",
          "height": 369
        },
        "outputId": "475387ae-85b2-483c-a875-90bc340e468e"
      },
      "source": [
        "\n",
        "# Plot the hyperplane\n",
        "sns.lmplot('Reqs_per_Secs', 'BW_in_Mbps', data=df, hue='Type', palette='Set1', fit_reg=False, scatter_kws={\"s\": 70})\n",
        "plt.plot(xx, yy, linewidth=1, color='black');"
      ],
      "execution_count": 428,
      "outputs": [
        {
          "output_type": "display_data",
          "data": {
            "image/png": "[encoded data removed]",
            "text/plain": [
              "<Figure size 499.275x360 with 1 Axes>"
            ]
          },
          "metadata": {
            "tags": []
          }
        }
      ]
    },
    {
      "cell_type": "code",
      "metadata": {
        "id": "84a0x-4YDQja",
        "colab_type": "code",
        "colab": {
          "base_uri": "https://localhost:8080/",
          "height": 369
        },
        "outputId": "32e40dc4-f289-46f7-bd5b-c80f752d62a8"
      },
      "source": [
        "\n",
        "# Look at the margins and support vectors\n",
        "sns.lmplot('Reqs_per_Secs', 'BW_in_Mbps', data=df, hue='Type', palette='Set1', fit_reg=False, scatter_kws={\"s\": 70})\n",
        "plt.plot(xx, yy, linewidth=1, color='black')\n",
        "plt.plot(xx, yy_down, 'k--')\n",
        "plt.plot(xx, yy_up, 'k--')\n",
        "plt.scatter(model.support_vectors_[:, 0], model.support_vectors_[:, 1],\n",
        "            s=80, facecolors='none');"
      ],
      "execution_count": 429,
      "outputs": [
        {
          "output_type": "display_data",
          "data": {
            "image/png": "[encoded data removed]",
            "text/plain": [
              "<Figure size 499.275x360 with 1 Axes>"
            ]
          },
          "metadata": {
            "tags": []
          }
        }
      ]
    },
    {
      "cell_type": "code",
      "metadata": {
        "id": "R-zLC-13Dfeu",
        "colab_type": "code",
        "colab": {}
      },
      "source": [
        "\n",
        "# Create a function to guess when a recipe is a muffin or a cupcake\n",
        "def Normal_or_abnormal(Reqs_per_Secs, BW_in_Mbps):\n",
        "    if(model.predict([[Reqs_per_Secs, BW_in_Mbps]]))==0:\n",
        "        print('This is normal data')\n",
        "    else:\n",
        "        print('This is a abnormal data!')"
      ],
      "execution_count": 0,
      "outputs": []
    },
    {
      "cell_type": "code",
      "metadata": {
        "id": "vkeWS6bshK_E",
        "colab_type": "code",
        "colab": {
          "base_uri": "https://localhost:8080/",
          "height": 34
        },
        "outputId": "226fba89-789a-401c-af5e-a2b637a01a8f"
      },
      "source": [
        "Normal_or_abnormal(100, 250)"
      ],
      "execution_count": 438,
      "outputs": [
        {
          "output_type": "stream",
          "text": [
            "This is a abnormal data!\n"
          ],
          "name": "stdout"
        }
      ]
    }
  ]
}